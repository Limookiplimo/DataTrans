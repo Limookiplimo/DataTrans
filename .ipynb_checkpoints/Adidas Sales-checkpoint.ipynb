{
 "cells": [
  {
   "cell_type": "markdown",
   "id": "acc66931",
   "metadata": {},
   "source": [
    "# Transformation with Spark"
   ]
  },
  {
   "cell_type": "markdown",
   "id": "e8a380c3",
   "metadata": {},
   "source": [
    "## Cleaning, Wrangling, Enriching and EDA of Adidas Sales Data in the US"
   ]
  },
  {
   "cell_type": "code",
   "execution_count": 6,
   "id": "e2472b75",
   "metadata": {},
   "outputs": [],
   "source": [
    "#Imports\n",
    "import pyspark\n",
    "from pyspark.sql import SparkSession\n",
    "from pyspark.sql.functions import regexp_replace, col"
   ]
  },
  {
   "cell_type": "code",
   "execution_count": 7,
   "id": "947817ed",
   "metadata": {},
   "outputs": [],
   "source": [
    "#Definitions\n",
    "spark = SparkSession.builder.master(\"local\").appName(\"Adidas\").getOrCreate()"
   ]
  },
  {
   "cell_type": "code",
   "execution_count": 8,
   "id": "8a59bf55",
   "metadata": {},
   "outputs": [
    {
     "data": {
      "text/html": [
       "\n",
       "            <div>\n",
       "                <p><b>SparkSession - in-memory</b></p>\n",
       "                \n",
       "        <div>\n",
       "            <p><b>SparkContext</b></p>\n",
       "\n",
       "            <p><a href=\"http://192.168.0.108:4040\">Spark UI</a></p>\n",
       "\n",
       "            <dl>\n",
       "              <dt>Version</dt>\n",
       "                <dd><code>v3.3.2</code></dd>\n",
       "              <dt>Master</dt>\n",
       "                <dd><code>local</code></dd>\n",
       "              <dt>AppName</dt>\n",
       "                <dd><code>Adidas</code></dd>\n",
       "            </dl>\n",
       "        </div>\n",
       "        \n",
       "            </div>\n",
       "        "
      ],
      "text/plain": [
       "<pyspark.sql.session.SparkSession at 0x7f0611e913c0>"
      ]
     },
     "execution_count": 8,
     "metadata": {},
     "output_type": "execute_result"
    }
   ],
   "source": [
    "spark"
   ]
  },
  {
   "cell_type": "code",
   "execution_count": 18,
   "id": "c934a491",
   "metadata": {},
   "outputs": [],
   "source": [
    "# Read the dataset and create a spark dataframe\n",
    "df = spark.read.csv(\"Adidas_Sales.csv\",header=True,inferSchema=True)"
   ]
  },
  {
   "cell_type": "code",
   "execution_count": 19,
   "id": "13e5d3d6",
   "metadata": {},
   "outputs": [
    {
     "name": "stdout",
     "output_type": "stream",
     "text": [
      "+-----------+-----------+------------+---------+--------+--------+-------------------------+--------------+----------+-----------+----------------+----------------+------------+\n",
      "|Retailer   |Retailer ID|Invoice Date|Region   |State   |City    |Product                  |Price per Unit|Units Sold|Total Sales|Operating Profit|Operating Margin|Sales Method|\n",
      "+-----------+-----------+------------+---------+--------+--------+-------------------------+--------------+----------+-----------+----------------+----------------+------------+\n",
      "|Foot Locker|1185732    |1/1/2020    |Northeast|New York|New York|Men's Street Footwear    |$50.00        |1,200     |$600,000   |$300,000        |50%             |In-store    |\n",
      "|Foot Locker|1185732    |1/2/2020    |Northeast|New York|New York|Men's Athletic Footwear  |$50.00        |1,000     |$500,000   |$150,000        |30%             |In-store    |\n",
      "|Foot Locker|1185732    |1/3/2020    |Northeast|New York|New York|Women's Street Footwear  |$40.00        |1,000     |$400,000   |$140,000        |35%             |In-store    |\n",
      "|Foot Locker|1185732    |1/4/2020    |Northeast|New York|New York|Women's Athletic Footwear|$45.00        |850       |$382,500   |$133,875        |35%             |In-store    |\n",
      "|Foot Locker|1185732    |1/5/2020    |Northeast|New York|New York|Men's Apparel            |$60.00        |900       |$540,000   |$162,000        |30%             |In-store    |\n",
      "+-----------+-----------+------------+---------+--------+--------+-------------------------+--------------+----------+-----------+----------------+----------------+------------+\n",
      "only showing top 5 rows\n",
      "\n"
     ]
    }
   ],
   "source": [
    "df.show(5,False)"
   ]
  },
  {
   "cell_type": "markdown",
   "id": "b45bc9d2",
   "metadata": {},
   "source": [
    "#### Transformatins to perform:\n",
    "    Clean data\n",
    "    Change datatypes\n",
    "    Rename column names\n",
    "    Drop unnecessary columns"
   ]
  },
  {
   "cell_type": "code",
   "execution_count": 21,
   "id": "60c8843d",
   "metadata": {},
   "outputs": [
    {
     "ename": "SyntaxError",
     "evalue": "invalid syntax (2341109509.py, line 2)",
     "output_type": "error",
     "traceback": [
      "\u001b[0;36m  Cell \u001b[0;32mIn[21], line 2\u001b[0;36m\u001b[0m\n\u001b[0;31m    clean_df = df/\u001b[0m\n\u001b[0m                  ^\u001b[0m\n\u001b[0;31mSyntaxError\u001b[0m\u001b[0;31m:\u001b[0m invalid syntax\n"
     ]
    }
   ],
   "source": [
    "#Clean Data\n",
    "clean_df = df\\\n",
    "            .withColumn(\"Invoice Date\", regexp_replace(col(\"Invoice Date\"),\"/\",\"-\"))"
   ]
  },
  {
   "cell_type": "markdown",
   "id": "d1821da4",
   "metadata": {},
   "source": [
    "    working_schema = StructType([\n",
    "        StructField(\"Retailer\", StringType(), True),\n",
    "        StructField(\"RetailerID\", IntegerType(), True),\n",
    "        StructField(\"InvoiceDate\", DateType(), True),\n",
    "        StructField(\"Region\", StringType(), True),\n",
    "        StructField(\"State\", StringType(), True),\n",
    "        StructField(\"City\", StringType(), True),\n",
    "        StructField(\"Product\", StringType(), True),\n",
    "        StructField(\"UnitPrice\", DoubleType(), True),\n",
    "        StructField(\"Quantity\", IntegerType(), True),\n",
    "        StructField(\"Sales\", DoubleType(), True),\n",
    "        StructField(\"Profit\", DoubleType(), True),\n",
    "        StructField(\"Margin\", DoubleType(), True),\n",
    "        StructField(\"Channel\", StringType(), True)\n",
    "    ])"
   ]
  },
  {
   "cell_type": "code",
   "execution_count": null,
   "id": "678ebece",
   "metadata": {},
   "outputs": [],
   "source": []
  },
  {
   "cell_type": "code",
   "execution_count": null,
   "id": "f8062da0",
   "metadata": {},
   "outputs": [],
   "source": []
  },
  {
   "cell_type": "code",
   "execution_count": null,
   "id": "2ca9a785",
   "metadata": {},
   "outputs": [],
   "source": []
  },
  {
   "cell_type": "code",
   "execution_count": null,
   "id": "228da556",
   "metadata": {},
   "outputs": [],
   "source": []
  },
  {
   "cell_type": "code",
   "execution_count": null,
   "id": "5d4803b4",
   "metadata": {},
   "outputs": [],
   "source": []
  },
  {
   "cell_type": "code",
   "execution_count": null,
   "id": "978ded75",
   "metadata": {},
   "outputs": [],
   "source": []
  },
  {
   "cell_type": "code",
   "execution_count": null,
   "id": "9e4a232d",
   "metadata": {},
   "outputs": [],
   "source": []
  },
  {
   "cell_type": "code",
   "execution_count": null,
   "id": "cf32b40e",
   "metadata": {},
   "outputs": [],
   "source": []
  },
  {
   "cell_type": "code",
   "execution_count": null,
   "id": "63974a65",
   "metadata": {},
   "outputs": [],
   "source": []
  },
  {
   "cell_type": "code",
   "execution_count": null,
   "id": "5e7db636",
   "metadata": {},
   "outputs": [],
   "source": []
  },
  {
   "cell_type": "code",
   "execution_count": null,
   "id": "ed5dc9f2",
   "metadata": {},
   "outputs": [],
   "source": []
  }
 ],
 "metadata": {
  "kernelspec": {
   "display_name": "Python 3 (ipykernel)",
   "language": "python",
   "name": "python3"
  },
  "language_info": {
   "codemirror_mode": {
    "name": "ipython",
    "version": 3
   },
   "file_extension": ".py",
   "mimetype": "text/x-python",
   "name": "python",
   "nbconvert_exporter": "python",
   "pygments_lexer": "ipython3",
   "version": "3.10.9"
  }
 },
 "nbformat": 4,
 "nbformat_minor": 5
}
